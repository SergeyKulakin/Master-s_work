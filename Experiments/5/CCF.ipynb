{
 "cells": [
  {
   "cell_type": "code",
   "execution_count": 1,
   "id": "90623e4e",
   "metadata": {},
   "outputs": [],
   "source": [
    "from pyod.models.xgbod import XGBOD"
   ]
  },
  {
   "cell_type": "code",
   "execution_count": 2,
   "id": "927b57af",
   "metadata": {},
   "outputs": [],
   "source": [
    "import pandas as pd\n",
    "import os\n",
    "import pickle\n",
    "from tqdm import trange\n",
    "from base import data, metrics\n",
    "\n",
    "import warnings\n",
    "warnings.filterwarnings(\"ignore\")\n",
    "\n",
    "# Данные\n",
    "path = 'D:/Work_dir/Master_work/Data/Credit_Card_Fraud_Detection'\n",
    "# Папка с сохраненными  моделями\n",
    "ccf_path = 'CCF_model'"
   ]
  },
  {
   "cell_type": "code",
   "execution_count": 3,
   "id": "7f6d6d95",
   "metadata": {},
   "outputs": [],
   "source": [
    "X_train, y_train, X_val, y_val, X_test, y_test = data.prep_data_ccf(path)"
   ]
  },
  {
   "cell_type": "code",
   "execution_count": 4,
   "id": "048a540e",
   "metadata": {
    "scrolled": true
   },
   "outputs": [
    {
     "data": {
      "text/plain": [
       "(192231, 30)"
      ]
     },
     "execution_count": 4,
     "metadata": {},
     "output_type": "execute_result"
    }
   ],
   "source": [
    "X_train.shape"
   ]
  },
  {
   "cell_type": "code",
   "execution_count": 13,
   "id": "48df056c",
   "metadata": {},
   "outputs": [],
   "source": [
    "clf = XGBOD(estimator_list=None,\n",
    "            standardization_flag_list=None,\n",
    "            max_depth=3, learning_rate=0.1,\n",
    "            n_estimators=100, silent=False,\n",
    "            objective='binary:logistic',\n",
    "            booster='gbtree', n_jobs=1,\n",
    "            nthread=1, gamma=0,\n",
    "            min_child_weight=1,\n",
    "            max_delta_step=0,\n",
    "            subsample=1, colsample_bytree=1,\n",
    "            colsample_bylevel=1, reg_alpha=0,\n",
    "            reg_lambda=1, scale_pos_weight=1,\n",
    "            base_score=0.5, random_state=0)"
   ]
  },
  {
   "cell_type": "code",
   "execution_count": 14,
   "id": "22646346",
   "metadata": {
    "scrolled": true
   },
   "outputs": [
    {
     "data": {
      "text/plain": [
       "array([[ 0.00000000e+00, -1.35980713e+00, -7.27811733e-02, ...,\n",
       "         1.33558377e-01, -2.10530535e-02,  1.49620000e+02],\n",
       "       [ 0.00000000e+00,  1.19185711e+00,  2.66150712e-01, ...,\n",
       "        -8.98309914e-03,  1.47241692e-02,  2.69000000e+00],\n",
       "       [ 1.00000000e+00, -1.35835406e+00, -1.34016307e+00, ...,\n",
       "        -5.53527940e-02, -5.97518406e-02,  3.78660000e+02],\n",
       "       ...,\n",
       "       [ 7.53000000e+02, -1.24816321e+00,  3.15246349e-01, ...,\n",
       "         9.75551609e-02, -6.70480102e-01,  3.00000000e+01],\n",
       "       [ 7.55000000e+02,  1.37413406e+00, -1.76721037e+00, ...,\n",
       "         6.88172784e-02,  3.80093004e-02,  8.23700000e+01],\n",
       "       [ 7.55000000e+02, -2.49743643e+00,  1.40276911e+00, ...,\n",
       "         6.72165106e-01,  1.14739099e-01,  8.00000000e+00]])"
      ]
     },
     "execution_count": 14,
     "metadata": {},
     "output_type": "execute_result"
    }
   ],
   "source": [
    "X_train[:1000, :]"
   ]
  },
  {
   "cell_type": "code",
   "execution_count": 15,
   "id": "fa16c1ad",
   "metadata": {
    "scrolled": false
   },
   "outputs": [
    {
     "name": "stdout",
     "output_type": "stream",
     "text": [
      "[14:45:10] WARNING: C:\\buildkite-agent\\builds\\buildkite-windows-cpu-autoscaling-group-i-07593ffd91cd9da33-1\\xgboost\\xgboost-ci-windows\\src\\learner.cc:767: \n",
      "Parameters: { \"silent\" } are not used.\n",
      "\n",
      "Wall time: 2.95 s\n"
     ]
    },
    {
     "data": {
      "text/plain": [
       "XGBOD(base_score=0.5, booster='gbtree', colsample_bylevel=1,\n",
       "   colsample_bytree=1,\n",
       "   estimator_list=[KNN(algorithm='auto', contamination=0.1, leaf_size=30, method='largest',\n",
       "  metric='minkowski', metric_params=None, n_jobs=1, n_neighbors=1, p=2,\n",
       "  radius=1.0), LOF(algorithm='auto', contamination=0.1, leaf_size=30, metric='minkowski',\n",
       "  metric_params=None, n_jobs=1, n_neighbors=1, no...ax_features=1.0,\n",
       "    max_samples='auto', n_estimators=200, n_jobs=1, random_state=0,\n",
       "    verbose=0)],\n",
       "   gamma=0, learning_rate=0.1, max_delta_step=0, max_depth=3,\n",
       "   min_child_weight=1, n_estimators=100, n_jobs=1, nthread=1,\n",
       "   objective='binary:logistic', random_state=0, reg_alpha=0, reg_lambda=1,\n",
       "   scale_pos_weight=1, silent=False,\n",
       "   standardization_flag_list=[True, True, True, True, True, True, True, True, True, True, True, True, True, True, True, True, False, False, False, False, False, False, False, True, True, True, True, True, True, True, True, True, True, True, False, False, False, False, False, False, False],\n",
       "   subsample=1)"
      ]
     },
     "execution_count": 15,
     "metadata": {},
     "output_type": "execute_result"
    }
   ],
   "source": [
    "%%time\n",
    "clf.fit(X_train[:1000, :], y_train[:1000])"
   ]
  },
  {
   "cell_type": "code",
   "execution_count": 16,
   "id": "ad3a2907",
   "metadata": {},
   "outputs": [
    {
     "ename": "AttributeError",
     "evalue": "'numpy.ndarray' object has no attribute 'values'",
     "output_type": "error",
     "traceback": [
      "\u001b[1;31m---------------------------------------------------------------------------\u001b[0m",
      "\u001b[1;31mAttributeError\u001b[0m                            Traceback (most recent call last)",
      "\u001b[1;32m~\\AppData\\Local\\Temp\\ipykernel_1972\\4158866956.py\u001b[0m in \u001b[0;36m<module>\u001b[1;34m\u001b[0m\n\u001b[0;32m      1\u001b[0m \u001b[0mx_pred\u001b[0m \u001b[1;33m=\u001b[0m \u001b[0mclf\u001b[0m\u001b[1;33m.\u001b[0m\u001b[0mpredict\u001b[0m\u001b[1;33m(\u001b[0m\u001b[0mX_test\u001b[0m\u001b[1;33m)\u001b[0m\u001b[1;33m\u001b[0m\u001b[1;33m\u001b[0m\u001b[0m\n\u001b[0;32m      2\u001b[0m \u001b[1;33m\u001b[0m\u001b[0m\n\u001b[1;32m----> 3\u001b[1;33m \u001b[0mmetrics\u001b[0m\u001b[1;33m.\u001b[0m\u001b[0mshow_metrics\u001b[0m\u001b[1;33m(\u001b[0m\u001b[0my_test\u001b[0m\u001b[1;33m.\u001b[0m\u001b[0mvalues\u001b[0m\u001b[1;33m,\u001b[0m \u001b[0mx_pred\u001b[0m\u001b[1;33m)\u001b[0m\u001b[1;33m\u001b[0m\u001b[1;33m\u001b[0m\u001b[0m\n\u001b[0m",
      "\u001b[1;31mAttributeError\u001b[0m: 'numpy.ndarray' object has no attribute 'values'"
     ]
    }
   ],
   "source": [
    "x_pred = clf.predict(X_test)"
   ]
  },
  {
   "cell_type": "code",
   "execution_count": 17,
   "id": "a2e96e25",
   "metadata": {
    "scrolled": true
   },
   "outputs": [
    {
     "name": "stdout",
     "output_type": "stream",
     "text": [
      "True positive rate (recall):  0.1346153846153846\n",
      "False positive rate:  0.0\n",
      "Precision:  1.0\n",
      "Recall:  0.1346153846153846\n",
      "True negative rate:  1.0\n",
      "ROC-AUC:  0.5673076923076923\n",
      "F1:  0.23728813559322035\n",
      "MCC:  0.3667075887016661\n",
      "G-mean:  0.3668996928526714\n"
     ]
    }
   ],
   "source": [
    "metrics.show_metrics(y_test, x_pred)"
   ]
  },
  {
   "cell_type": "code",
   "execution_count": 18,
   "id": "59de5c6a",
   "metadata": {
    "scrolled": false
   },
   "outputs": [
    {
     "data": {
      "text/plain": [
       "567.08145"
      ]
     },
     "execution_count": 18,
     "metadata": {},
     "output_type": "execute_result"
    }
   ],
   "source": [
    "192231/1000*2.95"
   ]
  },
  {
   "cell_type": "code",
   "execution_count": 19,
   "id": "55f1cbd5",
   "metadata": {},
   "outputs": [
    {
     "data": {
      "text/plain": [
       "9.4513575"
      ]
     },
     "execution_count": 19,
     "metadata": {},
     "output_type": "execute_result"
    }
   ],
   "source": [
    "567.08145/60"
   ]
  },
  {
   "cell_type": "code",
   "execution_count": 20,
   "id": "3e00bc65",
   "metadata": {
    "scrolled": false
   },
   "outputs": [
    {
     "name": "stdout",
     "output_type": "stream",
     "text": [
      "[14:50:06] WARNING: C:\\buildkite-agent\\builds\\buildkite-windows-cpu-autoscaling-group-i-07593ffd91cd9da33-1\\xgboost\\xgboost-ci-windows\\src\\learner.cc:767: \n",
      "Parameters: { \"silent\" } are not used.\n",
      "\n",
      "Wall time: 1min 45s\n"
     ]
    },
    {
     "data": {
      "text/plain": [
       "XGBOD(base_score=0.5, booster='gbtree', colsample_bylevel=1,\n",
       "   colsample_bytree=1,\n",
       "   estimator_list=[KNN(algorithm='auto', contamination=0.1, leaf_size=30, method='largest',\n",
       "  metric='minkowski', metric_params=None, n_jobs=1, n_neighbors=1, p=2,\n",
       "  radius=1.0), LOF(algorithm='auto', contamination=0.1, leaf_size=30, metric='minkowski',\n",
       "  metric_params=None, n_jobs=1, n_neighbors=1, no...ax_features=1.0,\n",
       "    max_samples='auto', n_estimators=200, n_jobs=1, random_state=0,\n",
       "    verbose=0)],\n",
       "   gamma=0, learning_rate=0.1, max_delta_step=0, max_depth=3,\n",
       "   min_child_weight=1, n_estimators=100, n_jobs=1, nthread=1,\n",
       "   objective='binary:logistic', random_state=0, reg_alpha=0, reg_lambda=1,\n",
       "   scale_pos_weight=1, silent=False,\n",
       "   standardization_flag_list=[True, True, True, True, True, True, True, True, True, True, True, True, True, True, True, True, False, False, False, False, False, False, False, True, True, True, True, True, True, True, True, True, True, True, False, False, False, False, False, False, False],\n",
       "   subsample=1)"
      ]
     },
     "execution_count": 20,
     "metadata": {},
     "output_type": "execute_result"
    }
   ],
   "source": [
    "%%time\n",
    "clf.fit(X_train[:10000, :], y_train[:10000])"
   ]
  },
  {
   "cell_type": "code",
   "execution_count": 21,
   "id": "8733ad7f",
   "metadata": {},
   "outputs": [],
   "source": [
    "x_pred = clf.predict(X_test)"
   ]
  },
  {
   "cell_type": "code",
   "execution_count": 22,
   "id": "a875e010",
   "metadata": {},
   "outputs": [
    {
     "name": "stdout",
     "output_type": "stream",
     "text": [
      "True positive rate (recall):  0.5576923076923077\n",
      "False positive rate:  0.00013973310976035772\n",
      "Precision:  0.8285714285714286\n",
      "Recall:  0.5576923076923077\n",
      "True negative rate:  0.9998602668902397\n",
      "ROC-AUC:  0.7787762872912737\n",
      "F1:  0.6666666666666666\n",
      "MCC:  0.6794656738614357\n",
      "G-mean:  0.746735816478535\n"
     ]
    }
   ],
   "source": [
    "metrics.show_metrics(y_test, x_pred)"
   ]
  },
  {
   "cell_type": "code",
   "execution_count": 23,
   "id": "dc3d8b28",
   "metadata": {},
   "outputs": [
    {
     "data": {
      "text/plain": [
       "2018.4254999999998"
      ]
     },
     "execution_count": 23,
     "metadata": {},
     "output_type": "execute_result"
    }
   ],
   "source": [
    "192231/10000*105"
   ]
  },
  {
   "cell_type": "code",
   "execution_count": 24,
   "id": "524fed7a",
   "metadata": {},
   "outputs": [
    {
     "data": {
      "text/plain": [
       "33.63333333333333"
      ]
     },
     "execution_count": 24,
     "metadata": {},
     "output_type": "execute_result"
    }
   ],
   "source": [
    "2018/60"
   ]
  },
  {
   "cell_type": "code",
   "execution_count": 5,
   "id": "f1e414c7",
   "metadata": {},
   "outputs": [],
   "source": [
    "from imblearn.under_sampling import RandomUnderSampler"
   ]
  },
  {
   "cell_type": "code",
   "execution_count": 6,
   "id": "ddd4f309",
   "metadata": {},
   "outputs": [],
   "source": [
    "US = RandomUnderSampler(random_state=42)"
   ]
  },
  {
   "cell_type": "code",
   "execution_count": 7,
   "id": "300582f7",
   "metadata": {},
   "outputs": [],
   "source": [
    "X_sm, y_sm = US.fit_resample(X_train, y_train)"
   ]
  },
  {
   "cell_type": "code",
   "execution_count": 8,
   "id": "df290c2c",
   "metadata": {},
   "outputs": [],
   "source": [
    "clf = XGBOD(estimator_list=None,\n",
    "            standardization_flag_list=None,\n",
    "            max_depth=3, learning_rate=0.1,\n",
    "            n_estimators=100, silent=False,\n",
    "            objective='binary:logistic',\n",
    "            booster='gbtree', n_jobs=1,\n",
    "            nthread=1, gamma=0,\n",
    "            min_child_weight=1,\n",
    "            max_delta_step=0,\n",
    "            subsample=1, colsample_bytree=1,\n",
    "            colsample_bylevel=1, reg_alpha=0,\n",
    "            reg_lambda=1, scale_pos_weight=1,\n",
    "            base_score=0.5, random_state=0)"
   ]
  },
  {
   "cell_type": "code",
   "execution_count": 9,
   "id": "9a8866d5",
   "metadata": {},
   "outputs": [
    {
     "name": "stdout",
     "output_type": "stream",
     "text": [
      "[17:52:23] WARNING: C:\\buildkite-agent\\builds\\buildkite-windows-cpu-autoscaling-group-i-07593ffd91cd9da33-1\\xgboost\\xgboost-ci-windows\\src\\learner.cc:767: \n",
      "Parameters: { \"silent\" } are not used.\n",
      "\n",
      "Wall time: 6.23 s\n"
     ]
    },
    {
     "data": {
      "text/plain": [
       "XGBOD(base_score=0.5, booster='gbtree', colsample_bylevel=1,\n",
       "   colsample_bytree=1,\n",
       "   estimator_list=[KNN(algorithm='auto', contamination=0.1, leaf_size=30, method='largest',\n",
       "  metric='minkowski', metric_params=None, n_jobs=1, n_neighbors=1, p=2,\n",
       "  radius=1.0), LOF(algorithm='auto', contamination=0.1, leaf_size=30, metric='minkowski',\n",
       "  metric_params=None, n_jobs=1, n_neighbors=1, no...ax_features=1.0,\n",
       "    max_samples='auto', n_estimators=200, n_jobs=1, random_state=0,\n",
       "    verbose=0)],\n",
       "   gamma=0, learning_rate=0.1, max_delta_step=0, max_depth=3,\n",
       "   min_child_weight=1, n_estimators=100, n_jobs=1, nthread=1,\n",
       "   objective='binary:logistic', random_state=0, reg_alpha=0, reg_lambda=1,\n",
       "   scale_pos_weight=1, silent=False,\n",
       "   standardization_flag_list=[True, True, True, True, True, True, True, True, True, True, True, True, True, True, True, True, False, False, False, False, False, False, False, True, True, True, True, True, True, True, True, True, True, True, False, False, False, False, False, False, False],\n",
       "   subsample=1)"
      ]
     },
     "execution_count": 9,
     "metadata": {},
     "output_type": "execute_result"
    }
   ],
   "source": [
    "%%time\n",
    "clf.fit(X_sm, y_sm)"
   ]
  },
  {
   "cell_type": "code",
   "execution_count": 10,
   "id": "683090a7",
   "metadata": {},
   "outputs": [],
   "source": [
    "x_pred = clf.predict(X_test)"
   ]
  },
  {
   "cell_type": "code",
   "execution_count": 11,
   "id": "23358299",
   "metadata": {},
   "outputs": [
    {
     "name": "stdout",
     "output_type": "stream",
     "text": [
      "True positive rate (recall):  0.8461538461538461\n",
      "False positive rate:  0.017885838049325788\n",
      "Precision:  0.054187192118226604\n",
      "Recall:  0.8461538461538461\n",
      "True negative rate:  0.9821141619506742\n",
      "ROC-AUC:  0.9141340040522602\n",
      "F1:  0.10185185185185185\n",
      "MCC:  0.21148149297996158\n",
      "G-mean:  0.9116028057749298\n"
     ]
    }
   ],
   "source": [
    "metrics.show_metrics(y_test, x_pred)"
   ]
  },
  {
   "cell_type": "code",
   "execution_count": 12,
   "id": "c23b7396",
   "metadata": {},
   "outputs": [],
   "source": [
    "# Сохраним модель\n",
    "with open(f'{ccf_path}/XGBOD', 'wb') as fp:\n",
    "    pickle.dump(clf, fp)"
   ]
  },
  {
   "cell_type": "code",
   "execution_count": 13,
   "id": "89d83379",
   "metadata": {},
   "outputs": [
    {
     "data": {
      "text/html": [
       "<div>\n",
       "<style scoped>\n",
       "    .dataframe tbody tr th:only-of-type {\n",
       "        vertical-align: middle;\n",
       "    }\n",
       "\n",
       "    .dataframe tbody tr th {\n",
       "        vertical-align: top;\n",
       "    }\n",
       "\n",
       "    .dataframe thead th {\n",
       "        text-align: right;\n",
       "    }\n",
       "</style>\n",
       "<table border=\"1\" class=\"dataframe\">\n",
       "  <thead>\n",
       "    <tr style=\"text-align: right;\">\n",
       "      <th></th>\n",
       "      <th>Recall_not_fr</th>\n",
       "      <th>Recall_fr</th>\n",
       "      <th>AUC</th>\n",
       "      <th>F1</th>\n",
       "      <th>MCC</th>\n",
       "      <th>G_mean</th>\n",
       "    </tr>\n",
       "  </thead>\n",
       "  <tbody>\n",
       "    <tr>\n",
       "      <th>XGBOD_CCF</th>\n",
       "      <td>0</td>\n",
       "      <td>0</td>\n",
       "      <td>0</td>\n",
       "      <td>0</td>\n",
       "      <td>0</td>\n",
       "      <td>0</td>\n",
       "    </tr>\n",
       "  </tbody>\n",
       "</table>\n",
       "</div>"
      ],
      "text/plain": [
       "           Recall_not_fr  Recall_fr  AUC  F1  MCC  G_mean\n",
       "XGBOD_CCF              0          0    0   0    0       0"
      ]
     },
     "execution_count": 13,
     "metadata": {},
     "output_type": "execute_result"
    }
   ],
   "source": [
    "# Инициализируем Pandas DataFrame\n",
    "results = pd.DataFrame(index=['XGBOD_CCF'], columns=['Recall_not_fr', 'Recall_fr', 'AUC', 'F1', 'MCC', 'G_mean'], data=0)\n",
    "results"
   ]
  },
  {
   "cell_type": "code",
   "execution_count": 14,
   "id": "03b901f0",
   "metadata": {},
   "outputs": [],
   "source": [
    "recall_nf, recall_f, auc, f1, mcc, g_mean = metrics.write_metrics(y_test, x_pred)\n",
    "tmp = {'Recall_not_fr':recall_nf,\n",
    "        'Recall_fr':recall_f,\n",
    "        'AUC':auc,\n",
    "        'F1':f1,\n",
    "        'MCC':mcc,\n",
    "        'G_mean':g_mean}\n",
    "results.loc['XGBOD_CCF'] = tmp"
   ]
  },
  {
   "cell_type": "code",
   "execution_count": 15,
   "id": "5e2a80c0",
   "metadata": {},
   "outputs": [
    {
     "data": {
      "text/html": [
       "<div>\n",
       "<style scoped>\n",
       "    .dataframe tbody tr th:only-of-type {\n",
       "        vertical-align: middle;\n",
       "    }\n",
       "\n",
       "    .dataframe tbody tr th {\n",
       "        vertical-align: top;\n",
       "    }\n",
       "\n",
       "    .dataframe thead th {\n",
       "        text-align: right;\n",
       "    }\n",
       "</style>\n",
       "<table border=\"1\" class=\"dataframe\">\n",
       "  <thead>\n",
       "    <tr style=\"text-align: right;\">\n",
       "      <th></th>\n",
       "      <th>Recall_not_fr</th>\n",
       "      <th>Recall_fr</th>\n",
       "      <th>AUC</th>\n",
       "      <th>F1</th>\n",
       "      <th>MCC</th>\n",
       "      <th>G_mean</th>\n",
       "    </tr>\n",
       "  </thead>\n",
       "  <tbody>\n",
       "    <tr>\n",
       "      <th>XGBOD_CCF</th>\n",
       "      <td>0.982114</td>\n",
       "      <td>0.846154</td>\n",
       "      <td>0.914134</td>\n",
       "      <td>0.101852</td>\n",
       "      <td>0.211481</td>\n",
       "      <td>0.911603</td>\n",
       "    </tr>\n",
       "  </tbody>\n",
       "</table>\n",
       "</div>"
      ],
      "text/plain": [
       "           Recall_not_fr  Recall_fr       AUC        F1       MCC    G_mean\n",
       "XGBOD_CCF       0.982114   0.846154  0.914134  0.101852  0.211481  0.911603"
      ]
     },
     "execution_count": 15,
     "metadata": {},
     "output_type": "execute_result"
    }
   ],
   "source": [
    "results"
   ]
  },
  {
   "cell_type": "code",
   "execution_count": 16,
   "id": "e7a19b52",
   "metadata": {},
   "outputs": [
    {
     "data": {
      "text/html": [
       "<div>\n",
       "<style scoped>\n",
       "    .dataframe tbody tr th:only-of-type {\n",
       "        vertical-align: middle;\n",
       "    }\n",
       "\n",
       "    .dataframe tbody tr th {\n",
       "        vertical-align: top;\n",
       "    }\n",
       "\n",
       "    .dataframe thead th {\n",
       "        text-align: right;\n",
       "    }\n",
       "</style>\n",
       "<table border=\"1\" class=\"dataframe\">\n",
       "  <thead>\n",
       "    <tr style=\"text-align: right;\">\n",
       "      <th></th>\n",
       "      <th>index</th>\n",
       "      <th>Recall_not_fr</th>\n",
       "      <th>Recall_fr</th>\n",
       "      <th>AUC</th>\n",
       "      <th>F1</th>\n",
       "      <th>MCC</th>\n",
       "      <th>G_mean</th>\n",
       "    </tr>\n",
       "  </thead>\n",
       "  <tbody>\n",
       "    <tr>\n",
       "      <th>0</th>\n",
       "      <td>XGBOD_CCF</td>\n",
       "      <td>0.982114</td>\n",
       "      <td>0.846154</td>\n",
       "      <td>0.914134</td>\n",
       "      <td>0.101852</td>\n",
       "      <td>0.211481</td>\n",
       "      <td>0.911603</td>\n",
       "    </tr>\n",
       "  </tbody>\n",
       "</table>\n",
       "</div>"
      ],
      "text/plain": [
       "       index  Recall_not_fr  Recall_fr       AUC        F1       MCC    G_mean\n",
       "0  XGBOD_CCF       0.982114   0.846154  0.914134  0.101852  0.211481  0.911603"
      ]
     },
     "execution_count": 16,
     "metadata": {},
     "output_type": "execute_result"
    }
   ],
   "source": [
    "results.reset_index(inplace=True)\n",
    "results"
   ]
  },
  {
   "cell_type": "code",
   "execution_count": 17,
   "id": "3ea3d9d8",
   "metadata": {},
   "outputs": [],
   "source": [
    "results.to_excel('ccf_results.xlsx', index=False)"
   ]
  },
  {
   "cell_type": "code",
   "execution_count": null,
   "id": "dc4128fa",
   "metadata": {},
   "outputs": [],
   "source": []
  }
 ],
 "metadata": {
  "kernelspec": {
   "display_name": "Python 3 (ipykernel)",
   "language": "python",
   "name": "python3"
  },
  "language_info": {
   "codemirror_mode": {
    "name": "ipython",
    "version": 3
   },
   "file_extension": ".py",
   "mimetype": "text/x-python",
   "name": "python",
   "nbconvert_exporter": "python",
   "pygments_lexer": "ipython3",
   "version": "3.9.13"
  }
 },
 "nbformat": 4,
 "nbformat_minor": 5
}
