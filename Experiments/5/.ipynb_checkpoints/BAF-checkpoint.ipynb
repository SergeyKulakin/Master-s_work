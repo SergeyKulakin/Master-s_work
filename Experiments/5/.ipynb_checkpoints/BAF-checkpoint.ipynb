{
 "cells": [
  {
   "cell_type": "markdown",
   "id": "a4c422e5",
   "metadata": {},
   "source": [
    "Библиотека PyOD"
   ]
  },
  {
   "cell_type": "code",
   "execution_count": 1,
   "id": "cf8133f9",
   "metadata": {},
   "outputs": [],
   "source": [
    "from pyod.models.abod import ABOD\n",
    "from pyod.models.cblof import CBLOF\n",
    "from pyod.models.feature_bagging import FeatureBagging\n",
    "from pyod.models.hbos import HBOS\n",
    "from pyod.models.iforest import IForest\n",
    "from pyod.models.knn import KNN\n",
    "from pyod.models.lof import LOF\n",
    "from pyod.models.mcd import MCD\n",
    "from pyod.models.ocsvm import OCSVM\n",
    "from pyod.models.pca import PCA\n",
    "random_state = 42"
   ]
  },
  {
   "cell_type": "code",
   "execution_count": 2,
   "id": "90623e4e",
   "metadata": {},
   "outputs": [],
   "source": [
    "from pyod.models.xgbod import XGBOD"
   ]
  },
  {
   "cell_type": "code",
   "execution_count": 3,
   "id": "927b57af",
   "metadata": {},
   "outputs": [],
   "source": [
    "import os\n",
    "import pickle\n",
    "from tqdm import trange\n",
    "from base import data, metrics\n",
    "\n",
    "import warnings\n",
    "warnings.filterwarnings(\"ignore\")\n",
    "\n",
    "# Данные\n",
    "path = 'D:\\Work_dir\\Master_work\\Data\\Bank_Account_Fraud_Dataset_Suite'\n",
    "# Папка с сохраненными  моделями\n",
    "baf_path = 'BAF_model'"
   ]
  },
  {
   "cell_type": "code",
   "execution_count": 4,
   "id": "75f48c1b",
   "metadata": {},
   "outputs": [],
   "source": [
    "import pandas as pd"
   ]
  },
  {
   "cell_type": "code",
   "execution_count": 5,
   "id": "7f6d6d95",
   "metadata": {},
   "outputs": [],
   "source": [
    "X_train, y_train, X_val, y_val, X_test, y_test = data.prep_data_baf(path)"
   ]
  },
  {
   "cell_type": "code",
   "execution_count": 6,
   "id": "048a540e",
   "metadata": {
    "scrolled": true
   },
   "outputs": [
    {
     "data": {
      "text/plain": [
       "(675666, 61)"
      ]
     },
     "execution_count": 6,
     "metadata": {},
     "output_type": "execute_result"
    }
   ],
   "source": [
    "X_train.shape"
   ]
  },
  {
   "cell_type": "code",
   "execution_count": 7,
   "id": "7978758e",
   "metadata": {},
   "outputs": [],
   "source": [
    "from imblearn.under_sampling import RandomUnderSampler"
   ]
  },
  {
   "cell_type": "code",
   "execution_count": 8,
   "id": "fb670314",
   "metadata": {},
   "outputs": [],
   "source": [
    "US = RandomUnderSampler(random_state=42)"
   ]
  },
  {
   "cell_type": "code",
   "execution_count": 9,
   "id": "3e7e3725",
   "metadata": {},
   "outputs": [],
   "source": [
    "X_sm, y_sm = US.fit_resample(X_train, y_train)"
   ]
  },
  {
   "cell_type": "code",
   "execution_count": 10,
   "id": "76ed484a",
   "metadata": {},
   "outputs": [],
   "source": [
    "clf = XGBOD(estimator_list=None,\n",
    "            standardization_flag_list=None,\n",
    "            max_depth=3, learning_rate=0.1,\n",
    "            n_estimators=100, silent=False,\n",
    "            objective='binary:logistic',\n",
    "            booster='gbtree', n_jobs=1,\n",
    "            nthread=1, gamma=0,\n",
    "            min_child_weight=1,\n",
    "            max_delta_step=0,\n",
    "            subsample=1, colsample_bytree=1,\n",
    "            colsample_bylevel=1, reg_alpha=0,\n",
    "            reg_lambda=1, scale_pos_weight=1,\n",
    "            base_score=0.5, random_state=0)"
   ]
  },
  {
   "cell_type": "code",
   "execution_count": 11,
   "id": "e6d4bbdc",
   "metadata": {},
   "outputs": [
    {
     "name": "stdout",
     "output_type": "stream",
     "text": [
      "[17:58:48] WARNING: C:\\buildkite-agent\\builds\\buildkite-windows-cpu-autoscaling-group-i-07593ffd91cd9da33-1\\xgboost\\xgboost-ci-windows\\src\\learner.cc:767: \n",
      "Parameters: { \"silent\" } are not used.\n",
      "\n",
      "Wall time: 4min 9s\n"
     ]
    },
    {
     "data": {
      "text/plain": [
       "XGBOD(base_score=0.5, booster='gbtree', colsample_bylevel=1,\n",
       "   colsample_bytree=1,\n",
       "   estimator_list=[KNN(algorithm='auto', contamination=0.1, leaf_size=30, method='largest',\n",
       "  metric='minkowski', metric_params=None, n_jobs=1, n_neighbors=1, p=2,\n",
       "  radius=1.0), LOF(algorithm='auto', contamination=0.1, leaf_size=30, metric='minkowski',\n",
       "  metric_params=None, n_jobs=1, n_neighbors=1, no...ax_features=1.0,\n",
       "    max_samples='auto', n_estimators=200, n_jobs=1, random_state=0,\n",
       "    verbose=0)],\n",
       "   gamma=0, learning_rate=0.1, max_delta_step=0, max_depth=3,\n",
       "   min_child_weight=1, n_estimators=100, n_jobs=1, nthread=1,\n",
       "   objective='binary:logistic', random_state=0, reg_alpha=0, reg_lambda=1,\n",
       "   scale_pos_weight=1, silent=False,\n",
       "   standardization_flag_list=[True, True, True, True, True, True, True, True, True, True, True, True, True, True, True, True, False, False, False, False, False, False, False, True, True, True, True, True, True, True, True, True, True, True, False, False, False, False, False, False, False],\n",
       "   subsample=1)"
      ]
     },
     "execution_count": 11,
     "metadata": {},
     "output_type": "execute_result"
    }
   ],
   "source": [
    "%%time\n",
    "clf.fit(X_sm, y_sm)"
   ]
  },
  {
   "cell_type": "code",
   "execution_count": 12,
   "id": "96df1f86",
   "metadata": {},
   "outputs": [],
   "source": [
    "x_pred = clf.predict(X_test)"
   ]
  },
  {
   "cell_type": "code",
   "execution_count": 13,
   "id": "12618971",
   "metadata": {},
   "outputs": [
    {
     "name": "stdout",
     "output_type": "stream",
     "text": [
      "True positive rate (recall):  0.7810979847116053\n",
      "False positive rate:  0.19115631786991732\n",
      "Precision:  0.05498080074351261\n",
      "Recall:  0.7810979847116053\n",
      "True negative rate:  0.8088436821300826\n",
      "ROC-AUC:  0.794970833420844\n",
      "F1:  0.10273049240260482\n",
      "MCC:  0.17369783564689292\n",
      "G-mean:  0.7948497782968312\n"
     ]
    }
   ],
   "source": [
    "metrics.show_metrics(y_test.values, x_pred)"
   ]
  },
  {
   "cell_type": "code",
   "execution_count": 14,
   "id": "c23b7396",
   "metadata": {},
   "outputs": [],
   "source": [
    "# Сохраним модель\n",
    "with open(f'{baf_path}/XGBOD', 'wb') as fp:\n",
    "    pickle.dump(clf, fp)"
   ]
  },
  {
   "cell_type": "code",
   "execution_count": 17,
   "id": "89d83379",
   "metadata": {},
   "outputs": [
    {
     "data": {
      "text/html": [
       "<div>\n",
       "<style scoped>\n",
       "    .dataframe tbody tr th:only-of-type {\n",
       "        vertical-align: middle;\n",
       "    }\n",
       "\n",
       "    .dataframe tbody tr th {\n",
       "        vertical-align: top;\n",
       "    }\n",
       "\n",
       "    .dataframe thead th {\n",
       "        text-align: right;\n",
       "    }\n",
       "</style>\n",
       "<table border=\"1\" class=\"dataframe\">\n",
       "  <thead>\n",
       "    <tr style=\"text-align: right;\">\n",
       "      <th></th>\n",
       "      <th>Recall_not_fr</th>\n",
       "      <th>Recall_fr</th>\n",
       "      <th>AUC</th>\n",
       "      <th>F1</th>\n",
       "      <th>MCC</th>\n",
       "      <th>G_mean</th>\n",
       "    </tr>\n",
       "  </thead>\n",
       "  <tbody>\n",
       "    <tr>\n",
       "      <th>XGBOD_BAF</th>\n",
       "      <td>0</td>\n",
       "      <td>0</td>\n",
       "      <td>0</td>\n",
       "      <td>0</td>\n",
       "      <td>0</td>\n",
       "      <td>0</td>\n",
       "    </tr>\n",
       "  </tbody>\n",
       "</table>\n",
       "</div>"
      ],
      "text/plain": [
       "           Recall_not_fr  Recall_fr  AUC  F1  MCC  G_mean\n",
       "XGBOD_BAF              0          0    0   0    0       0"
      ]
     },
     "execution_count": 17,
     "metadata": {},
     "output_type": "execute_result"
    }
   ],
   "source": [
    "# Инициализируем Pandas DataFrame\n",
    "results = pd.DataFrame(index=['XGBOD_BAF'], columns=['Recall_not_fr', 'Recall_fr', 'AUC', 'F1', 'MCC', 'G_mean'], data=0)\n",
    "results"
   ]
  },
  {
   "cell_type": "code",
   "execution_count": 18,
   "id": "03b901f0",
   "metadata": {},
   "outputs": [],
   "source": [
    "recall_nf, recall_f, auc, f1, mcc, g_mean = metrics.write_metrics(y_test, x_pred)\n",
    "tmp = {'Recall_not_fr':recall_nf,\n",
    "        'Recall_fr':recall_f,\n",
    "        'AUC':auc,\n",
    "        'F1':f1,\n",
    "        'MCC':mcc,\n",
    "        'G_mean':g_mean}\n",
    "results.loc['XGBOD_BAF'] = tmp"
   ]
  },
  {
   "cell_type": "code",
   "execution_count": 19,
   "id": "5e2a80c0",
   "metadata": {},
   "outputs": [
    {
     "data": {
      "text/html": [
       "<div>\n",
       "<style scoped>\n",
       "    .dataframe tbody tr th:only-of-type {\n",
       "        vertical-align: middle;\n",
       "    }\n",
       "\n",
       "    .dataframe tbody tr th {\n",
       "        vertical-align: top;\n",
       "    }\n",
       "\n",
       "    .dataframe thead th {\n",
       "        text-align: right;\n",
       "    }\n",
       "</style>\n",
       "<table border=\"1\" class=\"dataframe\">\n",
       "  <thead>\n",
       "    <tr style=\"text-align: right;\">\n",
       "      <th></th>\n",
       "      <th>Recall_not_fr</th>\n",
       "      <th>Recall_fr</th>\n",
       "      <th>AUC</th>\n",
       "      <th>F1</th>\n",
       "      <th>MCC</th>\n",
       "      <th>G_mean</th>\n",
       "    </tr>\n",
       "  </thead>\n",
       "  <tbody>\n",
       "    <tr>\n",
       "      <th>XGBOD_BAF</th>\n",
       "      <td>0.808844</td>\n",
       "      <td>0.781098</td>\n",
       "      <td>0.794971</td>\n",
       "      <td>0.10273</td>\n",
       "      <td>0.173698</td>\n",
       "      <td>0.79485</td>\n",
       "    </tr>\n",
       "  </tbody>\n",
       "</table>\n",
       "</div>"
      ],
      "text/plain": [
       "           Recall_not_fr  Recall_fr       AUC       F1       MCC   G_mean\n",
       "XGBOD_BAF       0.808844   0.781098  0.794971  0.10273  0.173698  0.79485"
      ]
     },
     "execution_count": 19,
     "metadata": {},
     "output_type": "execute_result"
    }
   ],
   "source": [
    "results"
   ]
  },
  {
   "cell_type": "code",
   "execution_count": 20,
   "id": "e7a19b52",
   "metadata": {},
   "outputs": [
    {
     "data": {
      "text/html": [
       "<div>\n",
       "<style scoped>\n",
       "    .dataframe tbody tr th:only-of-type {\n",
       "        vertical-align: middle;\n",
       "    }\n",
       "\n",
       "    .dataframe tbody tr th {\n",
       "        vertical-align: top;\n",
       "    }\n",
       "\n",
       "    .dataframe thead th {\n",
       "        text-align: right;\n",
       "    }\n",
       "</style>\n",
       "<table border=\"1\" class=\"dataframe\">\n",
       "  <thead>\n",
       "    <tr style=\"text-align: right;\">\n",
       "      <th></th>\n",
       "      <th>index</th>\n",
       "      <th>Recall_not_fr</th>\n",
       "      <th>Recall_fr</th>\n",
       "      <th>AUC</th>\n",
       "      <th>F1</th>\n",
       "      <th>MCC</th>\n",
       "      <th>G_mean</th>\n",
       "    </tr>\n",
       "  </thead>\n",
       "  <tbody>\n",
       "    <tr>\n",
       "      <th>0</th>\n",
       "      <td>XGBOD_BAF</td>\n",
       "      <td>0.808844</td>\n",
       "      <td>0.781098</td>\n",
       "      <td>0.794971</td>\n",
       "      <td>0.10273</td>\n",
       "      <td>0.173698</td>\n",
       "      <td>0.79485</td>\n",
       "    </tr>\n",
       "  </tbody>\n",
       "</table>\n",
       "</div>"
      ],
      "text/plain": [
       "       index  Recall_not_fr  Recall_fr       AUC       F1       MCC   G_mean\n",
       "0  XGBOD_BAF       0.808844   0.781098  0.794971  0.10273  0.173698  0.79485"
      ]
     },
     "execution_count": 20,
     "metadata": {},
     "output_type": "execute_result"
    }
   ],
   "source": [
    "results.reset_index(inplace=True)\n",
    "results"
   ]
  },
  {
   "cell_type": "code",
   "execution_count": 21,
   "id": "3ea3d9d8",
   "metadata": {},
   "outputs": [],
   "source": [
    "results.to_excel('baf_results.xlsx', index=False)"
   ]
  },
  {
   "cell_type": "code",
   "execution_count": null,
   "id": "2fcd52a9",
   "metadata": {},
   "outputs": [],
   "source": []
  },
  {
   "cell_type": "code",
   "execution_count": null,
   "id": "3d7eb00c",
   "metadata": {},
   "outputs": [],
   "source": []
  }
 ],
 "metadata": {
  "kernelspec": {
   "display_name": "Python 3 (ipykernel)",
   "language": "python",
   "name": "python3"
  },
  "language_info": {
   "codemirror_mode": {
    "name": "ipython",
    "version": 3
   },
   "file_extension": ".py",
   "mimetype": "text/x-python",
   "name": "python",
   "nbconvert_exporter": "python",
   "pygments_lexer": "ipython3",
   "version": "3.9.13"
  }
 },
 "nbformat": 4,
 "nbformat_minor": 5
}
